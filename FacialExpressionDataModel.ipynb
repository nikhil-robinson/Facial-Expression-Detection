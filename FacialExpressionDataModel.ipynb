{
  "nbformat": 4,
  "nbformat_minor": 0,
  "metadata": {
    "colab": {
      "name": "FacialExpressionDataModel.ipynb",
      "provenance": [],
      "collapsed_sections": []
    },
    "kernelspec": {
      "name": "python3",
      "display_name": "Python 3"
    },
    "language_info": {
      "name": "python"
    },
    "accelerator": "GPU"
  },
  "cells": [
    {
      "cell_type": "code",
      "metadata": {
        "id": "1uEvCyYRo6ZQ"
      },
      "source": [
        "import numpy as np\n",
        "import pandas as pd\n",
        "from keras.preprocessing.image import load_img,img_to_array\n",
        "from keras.preprocessing.image import ImageDataGenerator as IDG\n",
        "from keras.layers import Dense,Input,Dropout,GlobalAveragePooling2D,Flatten,Conv2D,BatchNormalization,Activation,MaxPooling2D\n",
        "from keras.models import Model,Sequential\n",
        "from keras.optimizers import Adam,SGD,RMSprop\n",
        "from keras.callbacks import ModelCheckpoint\n",
        "import seaborn as sns\n",
        "import os\n",
        "import matplotlib.pyplot as plt\n",
        "\n",
        "path = os.getcwd()\n",
        "b_path = path +\"/data/images/\"\n",
        "pic_size = 48\n",
        "plt.figure(0,figsize=(40,40))\n",
        "cpt=0\n",
        "for expression in os.listdir(b_path + \"train/\"):\n",
        "    for i in range(1,8):\n",
        "        cpt += 1\n",
        "        plt.subplot(7,8,cpt)\n",
        "        img=load_img(b_path+\"train/\"+expression+\"/\"+os.listdir(b_path+\"train/\"+expression)[i],target_size=(pic_size,pic_size))\n",
        "        plt.imshow(img,cmap='gray')\n",
        "        plt.xlabel(os.listdir(b_path+\"train/\"+expression)[i])\n",
        "plt.tight_layout()\n",
        "plt.show()\n"
      ],
      "execution_count": null,
      "outputs": []
    },
    {
      "cell_type": "code",
      "metadata": {
        "id": "XtgqnLmXtQHv"
      },
      "source": [
        "for expression in os.listdir(b_path + \"train\"):\n",
        "    print(str(len(os.listdir(b_path + \"train/\" + expression)))+\" \"+expression+\" images\")"
      ],
      "execution_count": null,
      "outputs": []
    },
    {
      "cell_type": "code",
      "metadata": {
        "id": "P-fnZ3jMtcdk"
      },
      "source": [
        "train_dat = IDG()\n",
        "val_dat = IDG()\n",
        "batch_size = 128\n",
        "train_gen = train_dat.flow_from_directory(b_path+\"train\",target_size=(pic_size,pic_size),color_mode=\"grayscale\",batch_size=batch_size,class_mode=\"categorical\",shuffle=True)\n",
        "val_gen = val_dat.flow_from_directory(b_path+\"validation\",target_size=(pic_size,pic_size),color_mode=\"grayscale\",batch_size=batch_size,class_mode=\"categorical\",shuffle=False)"
      ],
      "execution_count": null,
      "outputs": []
    },
    {
      "cell_type": "code",
      "metadata": {
        "id": "GiNXCWe1t-Mr"
      },
      "source": [
        "n_classes = 7\n",
        "#layer 1\n",
        "model = Sequential()\n",
        "model.add(Conv2D(64,(3,3),padding='same',input_shape=(48,48,1)))\n",
        "model.add(BatchNormalization())\n",
        "model.add(Activation('relu'))\n",
        "model.add(MaxPooling2D(pool_size=(2,2)))\n",
        "model.add(Dropout(0.25))\n",
        "#layer 2\n",
        "model.add(Conv2D(128,(5,5),padding='same'))\n",
        "model.add(BatchNormalization())\n",
        "model.add(Activation('relu'))\n",
        "model.add(MaxPooling2D(pool_size=(2,2)))\n",
        "model.add(Dropout(0.25))\n",
        "#layer 3\n",
        "model.add(Conv2D(512,(3,3),padding='same'))\n",
        "model.add(BatchNormalization())\n",
        "model.add(Activation('relu'))\n",
        "model.add(MaxPooling2D(pool_size=(2,2)))\n",
        "model.add(Dropout(0.25))\n",
        "#layer 4\n",
        "model.add(Conv2D(512,(3,3),padding='same'))\n",
        "model.add(MaxPooling2D(pool_size=(2,2)))\n",
        "model.add(Dropout(0.25))\n",
        "\n",
        "model.add(Flatten())\n",
        "#FC Layer 1\n",
        "model.add(Dense(256))\n",
        "model.add(BatchNormalization())\n",
        "model.add(Activation('relu'))\n",
        "model.add(Dropout(0.25))\n",
        "#FC Layer 2\n",
        "model.add(Dense(512))\n",
        "model.add(BatchNormalization())\n",
        "model.add(Activation('relu'))\n",
        "model.add(Dropout(0.25))\n",
        "\n",
        "model.add(Dense(n_classes,activation='softmax'))\n",
        "opt = Adam(lr = 0.0001)\n",
        "model.compile(optimizer=opt,loss='categorical_crossentropy',metrics=['accuracy'])\n",
        "model.summary()"
      ],
      "execution_count": null,
      "outputs": []
    },
    {
      "cell_type": "code",
      "metadata": {
        "id": "YnD-k7pjucXr"
      },
      "source": [
        "epochs = 48\n",
        "checkpoint = ModelCheckpoint(\"model_weights.h5\",monitor = \"val_acc\",verbose=1,save_best_only=True,mode = \"max\")\n",
        "callbacks_list = [checkpoint]\n",
        "history = model.fit_generator(generator=train_gen,steps_per_epoch=train_gen.n//train_gen.batch_size,epochs=epochs,validation_data = val_gen,validation_steps=val_gen.n//val_gen.batch_size,callbacks = callbacks_list)"
      ],
      "execution_count": null,
      "outputs": []
    },
    {
      "cell_type": "code",
      "metadata": {
        "id": "HUlxIZ3nurOU"
      },
      "source": [
        "model_json = model.to_json()\n",
        "with open(\"model.json\",\"w\") as json_file:\n",
        "    json_file.write(model_json)"
      ],
      "execution_count": null,
      "outputs": []
    },
    {
      "cell_type": "code",
      "metadata": {
        "id": "nc7chRTZu2YW"
      },
      "source": [
        "plt.figure(figsize=(20,10))\n",
        "plt.subplot(1,2,1)\n",
        "plt.suptitle('Adam Optimizer',fontsize=20)\n",
        "plt.plot(history.history['loss'],label='Training Loss')\n",
        "plt.plot(history.history['val_loss'],label='Testing Loss')\n",
        "plt.legend(loc='upper right')\n",
        "plt.subplot(1,2,2)\n",
        "plt.ylabel(\"Accuracy\",fontsize=16)\n",
        "plt.plot(history.history['accuracy'],label='Training Accuracy')\n",
        "plt.plot(history.history['val_accuracy'],label = 'Testing Accuracy')\n",
        "plt.legend()\n",
        "plt.show()"
      ],
      "execution_count": null,
      "outputs": []
    },
    {
      "cell_type": "code",
      "metadata": {
        "id": "5iQLmspeu-To"
      },
      "source": [
        ""
      ],
      "execution_count": null,
      "outputs": []
    }
  ]
}